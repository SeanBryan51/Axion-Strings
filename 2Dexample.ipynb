{
 "cells": [
  {
   "cell_type": "code",
   "execution_count": 1,
   "metadata": {},
   "outputs": [],
   "source": [
    "%matplotlib inline\n",
    "from numpy import *\n",
    "import matplotlib.pyplot as plt\n",
    "from matplotlib import cm\n",
    "import pandas as pd\n",
    "from numpy import random\n",
    "from numba import jit,njit,prange\n",
    "from scipy import fftpack \n",
    "\n",
    "mov_dir = 'mov/2D/' # Directory for the snapshots \n",
    "\n",
    "# CHOICE OF PARAMETERS\n",
    "N = 1024 # box size\n",
    "L = 1024 # physical size in units of L_1=1/(R_1H_1)\n",
    "delta=1.0/3.0 # Courant parameter, same as Gorghetto et al.\n",
    "#delta=0.1\n",
    "dx=L/N # space step\n",
    "dt = delta*dx # time step (comoving)\n",
    "t = 1.0*dt # initial time\n",
    "tmax = int(0.5*N*dx/dt) # light crossing time (do not evolve beyond this timestep)\n",
    "\n",
    "alpha = 1 # For the PRS fudge factor, keeping the strings fixed width in comoving coords.\n",
    "era = 1 # 2 for matter domination, 1 for radiation domination (in PRS trick)\n",
    "lambdaPRS = 0.25 #Quartic coupling scaled by PRS trick\n",
    "fa = 1 # In natural fa units \n",
    "ms = sqrt(lambdaPRS)*fa # Saxion mass for PRS in ADM units"
   ]
  },
  {
   "cell_type": "code",
   "execution_count": null,
   "metadata": {},
   "outputs": [],
   "source": [
    "# INITIAL CONDITIONS\n",
    "# JUST WHITE NOISE ON UNIFORM DISTRIBUTION\n",
    "th = 2*pi*random.normal(size=(N,N))\n",
    "phi1 = cos(th)\n",
    "phi2 = sin(th)\n",
    "phidot1 = zeros(shape=(N,N))\n",
    "phidot2 = zeros(shape=(N,N))\n",
    "\n",
    "# KERNEL\n",
    "f1 = Laplacian_2D(phi1,dx,N) - 2*alpha*(era/t)*phidot1 - lambdaPRS*phi1*(phi1**2.0+phi2**2.0 - 1)\n",
    "f2 = Laplacian_2D(phi2,dx,N) - 2*alpha*(era/t)*phidot2 - lambdaPRS*phi2*(phi1**2.0+phi2**2.0 - 1)\n",
    "\n",
    "# EVOLUTION - VELOCITY VERLET LEAPFROG ALGORITHM IN DRIFT-KICK SCHEME\n",
    "for i in range(0,tmax-1):\n",
    "    # DRIFT\n",
    "    phi1 = phi1 + dt*(phidot1 + 0.5*f1*dt)\n",
    "    phi2 = phi2 + dt*(phidot2 + 0.5*f2*dt)\n",
    "    # UPDATE\n",
    "    t = t+dt\n",
    "    f1_next = Laplacian_2D(phi1,dx,N) - 2*alpha*(era/t)*phidot1 - lambdaPRS*phi1*(phi1**2.0+phi2**2.0 - 1) #- lambdaPRS*T**2.0# + 10**5.0/(t**2.0) \n",
    "    f2_next = Laplacian_2D(phi2,dx,N) - 2*alpha*(era/t)*phidot2 - lambdaPRS*phi2*(phi1**2.0+phi2**2.0 - 1) #- lambdaPRS*T**2.0# + 10**5.0/(t**2.0) \n",
    "    #KICK\n",
    "    phidot1 = phidot1 + 0.5*(f1 + f1_next)*dt\n",
    "    phidot2 = phidot2 + 0.5*(f2 + f2_next)*dt\n",
    "    # UPDATE\n",
    "    f1 = 1.0*f1_next\n",
    "    f2 = 1.0*f2_next\n",
    "    # Physical fields\n",
    "    saxion_field=sqrt(phi1**2.0+phi2**2.0)\n",
    "    axion_field=arctan2(phi1,phi2)   "
   ]
  }
 ],
 "metadata": {
  "kernelspec": {
   "display_name": "Python 3",
   "language": "python",
   "name": "python3"
  },
  "language_info": {
   "codemirror_mode": {
    "name": "ipython",
    "version": 3
   },
   "file_extension": ".py",
   "mimetype": "text/x-python",
   "name": "python",
   "nbconvert_exporter": "python",
   "pygments_lexer": "ipython3",
   "version": "3.8.5"
  }
 },
 "nbformat": 4,
 "nbformat_minor": 4
}
