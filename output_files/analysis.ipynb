{
 "cells": [
  {
   "cell_type": "code",
   "execution_count": null,
   "metadata": {},
   "outputs": [],
   "source": [
    "import numpy as np\n",
    "import matplotlib.pyplot as plt\n",
    "import matplotlib\n",
    "import pandas as pd"
   ]
  },
  {
   "cell_type": "code",
   "execution_count": null,
   "metadata": {},
   "outputs": [],
   "source": [
    "def convert_format2D(arr, N):\n",
    "    ret = np.zeros((N, N))\n",
    "    for i in range(N):\n",
    "        for j in range(N):\n",
    "            ret[i,j] = arr[i + N * j]\n",
    "    \n",
    "    return ret\n",
    "\n",
    "def read_snapshots2D(N):\n",
    "    snapshots = []\n",
    "    count = 0\n",
    "    done = False\n",
    "    while not done:\n",
    "        try:\n",
    "            phi1 = convert_format2D(np.fromfile(f\"phi1-snapshot{count}\", dtype=np.float32), N)\n",
    "            phi2 = convert_format2D(np.fromfile(f\"phi2-snapshot{count}\", dtype=np.float32), N)\n",
    "            # saxion = np.sqrt(phi1**2 + phi2**2)\n",
    "            axion = np.arctan2(phi1, phi2)\n",
    "            snapshots.append(axion)\n",
    "            count += 1\n",
    "        except:\n",
    "            done = True\n",
    "    \n",
    "    return snapshots\n",
    "\n",
    "def convert_format3D(arr, N):\n",
    "    ret = np.zeros((N, N, N))\n",
    "    for i in range(N):\n",
    "        for j in range(N):\n",
    "            for k in range(N):\n",
    "                ret[i,j,k] = arr[(i * N + j) * N + k]\n",
    "\n",
    "    return ret\n",
    "\n",
    "def read_snapshots3D(N):\n",
    "    snapshots = []\n",
    "    count = 0\n",
    "    done = False\n",
    "    while not done:\n",
    "        try:\n",
    "            phi1 = convert_format3D(np.fromfile(f\"phi1-snapshot{count}\", dtype=np.float32), N)\n",
    "            phi2 = convert_format3D(np.fromfile(f\"phi2-snapshot{count}\", dtype=np.float32), N)\n",
    "            # saxion = np.sqrt(phi1**2 + phi2**2)\n",
    "            axion = np.arctan2(phi1, phi2)\n",
    "            snapshots.append(axion)\n",
    "            count += 1\n",
    "        except:\n",
    "            done = True\n",
    "    \n",
    "    return snapshots"
   ]
  },
  {
   "cell_type": "code",
   "execution_count": null,
   "metadata": {},
   "outputs": [],
   "source": [
    "# For nicer plots:\n",
    "\n",
    "%matplotlib inline\n",
    "font = {'size'   : 20, 'family':'STIXGeneral'}\n",
    "axislabelfontsize='large'\n",
    "matplotlib.rc('font', **font)\n",
    "matplotlib.mathtext.rcParams['legend.fontsize']='small'\n",
    "matplotlib.rcParams['mathtext.fontset'] = 'cm'\n",
    "plt.rcParams['figure.figsize'] = [13, 12]"
   ]
  },
  {
   "cell_type": "code",
   "execution_count": null,
   "metadata": {
    "scrolled": false
   },
   "outputs": [],
   "source": [
    "# Show 2D snapshots:\n",
    "\n",
    "snapshots = read_snapshots2D(256)\n",
    "\n",
    "for i in range(len(snapshots)):\n",
    "    plt.imshow(snapshots[i], cmap=matplotlib.cm.twilight, interpolation='none')\n",
    "    plt.title(r\"Axion field $a(x)/f_a$\")\n",
    "    # plt.xlabel(r\"Comoving distance $\\tilde{x}$\")\n",
    "    locx, _ = plt.xticks([])\n",
    "    locy, _ = plt.yticks([])\n",
    "    cbar = plt.colorbar(fraction=0.046, pad=0.04)\n",
    "    cbar.set_ticks([np.pi-0.001, np.pi/2, 0, -np.pi/2, -np.pi+0.001])\n",
    "    cbar.set_ticklabels([r\"$\\pi$\", r\"$\\pi/2$\",\"0\",r\"$-\\pi/2$\", r\"$-\\pi$\"])\n",
    "    plt.show()\n"
   ]
  },
  {
   "cell_type": "code",
   "execution_count": null,
   "metadata": {
    "scrolled": false
   },
   "outputs": [],
   "source": [
    "# Show 3D snapshots as 2D slices:\n",
    "\n",
    "snapshots = read_snapshots3D(128)\n",
    "\n",
    "for i in range(len(snapshots)):\n",
    "    plt.imshow(snapshots[i][0], cmap=matplotlib.cm.twilight, interpolation='none')\n",
    "    plt.title(r\"Axion field $a(x)/f_a$\")\n",
    "    # plt.xlabel(r\"Comoving distance $\\tilde{x}$\")\n",
    "    locx, _ = plt.xticks([])\n",
    "    locy, _ = plt.yticks([])\n",
    "    cbar = plt.colorbar(fraction=0.046, pad=0.04)\n",
    "    cbar.set_ticks([np.pi-0.001, np.pi/2, 0, -np.pi/2, -np.pi+0.001])\n",
    "    cbar.set_ticklabels([r\"$\\pi$\", r\"$\\pi/2$\",\"0\",r\"$-\\pi/2$\", r\"$-\\pi$\"])\n",
    "    plt.show()\n"
   ]
  },
  {
   "cell_type": "code",
   "execution_count": null,
   "metadata": {},
   "outputs": [],
   "source": [
    "# Read single snapshot:\n",
    "\n",
    "p1 = convert_format3D(np.fromfile(\"phi1-snapshot3\", dtype=np.float32), 256)\n",
    "p2 = convert_format3D(np.fromfile(\"phi2-snapshot3\", dtype=np.float32), 256)\n",
    "\n",
    "ax = np.arctan2(p1,p2)\n",
    "sx = np.sqrt(p1**2 + p2**2)\n",
    "\n",
    "plt.imshow(ax[80], cmap=matplotlib.cm.twilight, interpolation='none')\n",
    "plt.title(r\"Axion field $a(x)/f_a$\")\n",
    "locx, _ = plt.xticks([])\n",
    "locy, _ = plt.yticks([])\n",
    "cbar = plt.colorbar(fraction=0.046, pad=0.04)\n",
    "cbar.set_ticks([np.pi-0.001, np.pi/2, 0, -np.pi/2, -np.pi+0.001])\n",
    "cbar.set_ticklabels([r\"$\\pi$\", r\"$\\pi/2$\",\"0\",r\"$-\\pi/2$\", r\"$-\\pi$\"])\n",
    "plt.show()"
   ]
  },
  {
   "cell_type": "code",
   "execution_count": null,
   "metadata": {
    "scrolled": false
   },
   "outputs": [],
   "source": [
    "# Time-series observables:\n",
    "plt.rcParams['figure.figsize'] = [6.5, 6]\n",
    "\n",
    "ret = pd.read_csv(\"time-series.csv\")\n",
    "\n",
    "t = np.array(ret['time'].tolist())\n",
    "xi = np.array(ret['xi'].tolist())\n",
    "phi1_bar = np.array(ret['phi1_bar'].tolist())\n",
    "phi2_bar = np.array(ret['phi2_bar'].tolist())\n",
    "phidot1_bar = np.array(ret['phidot1_bar'].tolist())\n",
    "phidot2_bar = np.array(ret['phidot2_bar'].tolist())\n",
    "axion_bar = np.arctan2(phi1_bar, phi2_bar)\n",
    "saxion_bar = np.sqrt(phi1_bar**2 + phi2_bar**2)\n",
    "\n",
    "plt.plot(t, xi, \"x\")\n",
    "plt.show()\n",
    "\n",
    "plt.scatter(phi1_bar, phi2_bar, marker=\".\", c=t, cmap=matplotlib.cm.viridis)\n",
    "plt.show()\n",
    "\n",
    "plt.plot(t, phi1_bar, \"x\", label=\"phi1\")\n",
    "plt.plot(t, phi2_bar, \"x\", label=\"phi2\")\n",
    "plt.plot(t, phidot1_bar, \"x\", label=\"phidot1\")\n",
    "plt.plot(t, phidot2_bar, \"x\", label=\"phidot1\")\n",
    "plt.legend()\n",
    "plt.show()\n",
    "\n",
    "plt.scatter(phi1_bar, phidot1_bar, marker=\".\", c=t, cmap=matplotlib.cm.viridis, label=\"phi1\")\n",
    "plt.scatter(phi2_bar, phidot2_bar, marker=\"x\", c=t, cmap=matplotlib.cm.viridis, label=\"phi2\")\n",
    "plt.legend()\n",
    "plt.show()"
   ]
  },
  {
   "cell_type": "code",
   "execution_count": null,
   "metadata": {},
   "outputs": [],
   "source": [
    "# Plot string snapshot:\n",
    "\n",
    "from mpl_toolkits.mplot3d import Axes3D\n",
    "\n",
    "%matplotlib notebook\n",
    "plt.rcParams['figure.figsize'] = [8, 8]\n",
    "\n",
    "ret = pd.read_csv(\"string-pos-snapshot4\", header=None)\n",
    "xs = ret[0].tolist()\n",
    "ys = ret[1].tolist()\n",
    "zs = ret[2].tolist()\n",
    "\n",
    "ax = plt.axes(projection='3d')\n",
    "ax.scatter3D(xs, ys, zs, c=zs, cmap=matplotlib.cm.viridis);\n",
    "plt.show()"
   ]
  },
  {
   "cell_type": "code",
   "execution_count": null,
   "metadata": {},
   "outputs": [],
   "source": []
  }
 ],
 "metadata": {
  "kernelspec": {
   "display_name": "Python 3",
   "language": "python",
   "name": "python3"
  },
  "language_info": {
   "codemirror_mode": {
    "name": "ipython",
    "version": 3
   },
   "file_extension": ".py",
   "mimetype": "text/x-python",
   "name": "python",
   "nbconvert_exporter": "python",
   "pygments_lexer": "ipython3",
   "version": "3.8.5"
  }
 },
 "nbformat": 4,
 "nbformat_minor": 4
}
