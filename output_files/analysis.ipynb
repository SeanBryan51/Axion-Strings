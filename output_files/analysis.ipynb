{
 "cells": [
  {
   "cell_type": "code",
   "execution_count": null,
   "metadata": {},
   "outputs": [],
   "source": [
    "import numpy as np\n",
    "import matplotlib.pyplot as plt\n",
    "from matplotlib import cm\n"
   ]
  },
  {
   "cell_type": "code",
   "execution_count": null,
   "metadata": {},
   "outputs": [],
   "source": [
    "def convert_format2D(arr, N):\n",
    "    ret = np.zeros((N, N))\n",
    "    for i in range(N):\n",
    "        for j in range(N):\n",
    "            ret[i,j] = arr[i + N * j]\n",
    "    \n",
    "    return ret\n",
    "\n",
    "def read_snapshots2D(N):\n",
    "    snapshots = []\n",
    "    count = 0\n",
    "    done = False\n",
    "    while not done:\n",
    "        try:\n",
    "            phi1 = convert_format2D(np.fromfile(f\"phi1-snapshot{count}\", dtype=np.float32), N)\n",
    "            phi2 = convert_format2D(np.fromfile(f\"phi2-snapshot{count}\", dtype=np.float32), N)\n",
    "            # saxion = np.sqrt(phi1**2 + phi2**2)\n",
    "            axion = np.arctan2(phi1, phi2)\n",
    "            snapshots.append(axion)\n",
    "            count += 1\n",
    "        except:\n",
    "            done = True\n",
    "    \n",
    "    return snapshots\n",
    "\n",
    "def convert_format3D(arr, N):\n",
    "    ret = np.zeros((N, N, N))\n",
    "    for i in range(N):\n",
    "        for j in range(N):\n",
    "            for k in range(N):\n",
    "                ret[i,j,k] = arr[(i * N + j) * N + k]\n",
    "\n",
    "    return ret\n",
    "\n",
    "def read_snapshots3D(N):\n",
    "    snapshots = []\n",
    "    count = 0\n",
    "    done = False\n",
    "    while not done:\n",
    "        try:\n",
    "            phi1 = convert_format3D(np.fromfile(f\"phi1-snapshot{count}\", dtype=np.float32), N)\n",
    "            phi2 = convert_format3D(np.fromfile(f\"phi2-snapshot{count}\", dtype=np.float32), N)\n",
    "            # saxion = np.sqrt(phi1**2 + phi2**2)\n",
    "            axion = np.arctan2(phi1, phi2)\n",
    "            snapshots.append(axion)\n",
    "            count += 1\n",
    "        except:\n",
    "            done = True\n",
    "    \n",
    "    return snapshots"
   ]
  },
  {
   "cell_type": "code",
   "execution_count": null,
   "metadata": {},
   "outputs": [],
   "source": [
    "%matplotlib inline\n",
    "plt.rcParams['figure.figsize'] = [13, 12]\n",
    "\n",
    "snapshots = read_snapshots2D(512)\n",
    "\n",
    "for i in range(len(snapshots)):\n",
    "    plt.imshow(snapshots[i], cmap=cm.twilight)\n",
    "    plt.title(f\"saxion snapshot {i}\")\n",
    "    plt.xlabel(\"comoving distance\")\n",
    "    plt.colorbar()\n",
    "    plt.show()\n"
   ]
  },
  {
   "cell_type": "code",
   "execution_count": null,
   "metadata": {},
   "outputs": [],
   "source": [
    "%matplotlib inline\n",
    "plt.rcParams['figure.figsize'] = [13, 12]\n",
    "\n",
    "snapshots = read_snapshots3D(128)\n",
    "\n",
    "for i in range(len(snapshots)):\n",
    "    plt.imshow(snapshots[i][100], cmap=cm.twilight)\n",
    "    plt.title(f\"saxion snapshot {i}\")\n",
    "    plt.colorbar()\n",
    "    plt.show()\n"
   ]
  },
  {
   "cell_type": "code",
   "execution_count": null,
   "metadata": {},
   "outputs": [],
   "source": [
    "p1 = convert_format3D(np.fromfile(\"phi1-final\", dtype=np.float32), 512)\n",
    "p2 = convert_format3D(np.fromfile(\"phi2-final\", dtype=np.float32), 512)"
   ]
  },
  {
   "cell_type": "code",
   "execution_count": null,
   "metadata": {},
   "outputs": [],
   "source": [
    "ax = np.arctan2(p1,p2)\n",
    "sx = np.sqrt(p1**2 + p2**2)\n",
    "plt.imshow(ax[100,:,:], cmap=cm.twilight)\n",
    "plt.colorbar()\n",
    "plt.show()"
   ]
  }
 ],
 "metadata": {
  "kernelspec": {
   "display_name": "Python 3",
   "language": "python",
   "name": "python3"
  },
  "language_info": {
   "codemirror_mode": {
    "name": "ipython",
    "version": 3
   },
   "file_extension": ".py",
   "mimetype": "text/x-python",
   "name": "python",
   "nbconvert_exporter": "python",
   "pygments_lexer": "ipython3",
   "version": "3.8.5"
  }
 },
 "nbformat": 4,
 "nbformat_minor": 4
}
