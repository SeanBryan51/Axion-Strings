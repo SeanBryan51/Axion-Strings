{
 "cells": [
  {
   "cell_type": "code",
   "execution_count": null,
   "metadata": {},
   "outputs": [],
   "source": [
    "import numpy as np\n",
    "import matplotlib.pyplot as plt\n",
    "from matplotlib import cm\n",
    "\n",
    "import sys"
   ]
  },
  {
   "cell_type": "code",
   "execution_count": null,
   "metadata": {},
   "outputs": [],
   "source": [
    "def convert_format(arr, N):\n",
    "    ret = np.zeros((N, N))\n",
    "    for i in range(N):\n",
    "        for j in range(N):\n",
    "            ret[i,j] = arr[i + N * j]\n",
    "    \n",
    "    return ret\n",
    "\n",
    "def read_snapshots(N):\n",
    "    snapshots = []\n",
    "    count = 0\n",
    "    done = False\n",
    "    while not done:\n",
    "        try:\n",
    "            phi1 = convert_format(np.fromfile(f\"phi1-snapshot{count}\", dtype=np.float32), N)\n",
    "            phi2 = convert_format(np.fromfile(f\"phi2-snapshot{count}\", dtype=np.float32), N)\n",
    "            # saxion = np.sqrt(phi1**2 + phi2**2)\n",
    "            axion = np.arctan2(phi1, phi2)\n",
    "            snapshots.append(axion)\n",
    "            count += 1\n",
    "        except:\n",
    "            done = True\n",
    "    \n",
    "    return snapshots\n"
   ]
  },
  {
   "cell_type": "code",
   "execution_count": null,
   "metadata": {},
   "outputs": [],
   "source": [
    "%matplotlib inline\n",
    "plt.rcParams['figure.figsize'] = [13, 12]\n",
    "\n",
    "snapshots = read_snapshots(256)\n",
    "\n",
    "for i in range(len(snapshots)):\n",
    "    plt.imshow(snapshots[i], cmap=cm.twilight)\n",
    "    plt.title(f\"saxion snapshot {i}\")\n",
    "    plt.colorbar()\n",
    "    plt.show()\n"
   ]
  },
  {
   "cell_type": "code",
   "execution_count": null,
   "metadata": {},
   "outputs": [],
   "source": []
  }
 ],
 "metadata": {
  "kernelspec": {
   "display_name": "Python 3",
   "language": "python",
   "name": "python3"
  },
  "language_info": {
   "codemirror_mode": {
    "name": "ipython",
    "version": 3
   },
   "file_extension": ".py",
   "mimetype": "text/x-python",
   "name": "python",
   "nbconvert_exporter": "python",
   "pygments_lexer": "ipython3",
   "version": "3.8.5"
  }
 },
 "nbformat": 4,
 "nbformat_minor": 4
}
